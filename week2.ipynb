{
 "cells": [
  {
   "cell_type": "markdown",
   "metadata": {},
   "source": [
    "# Week 2"
   ]
  },
  {
   "cell_type": "code",
   "execution_count": null,
   "metadata": {},
   "outputs": [],
   "source": [
    "# Own Libraries\n",
    "from utils.plotting import plot_image_and_similar\n",
    "from utils.data import DataManager\n",
    "from utils.metrics import prec_recall, iou_score, f1_dice\n",
    "from utils.similarity import Similarity\n",
    "from utils.image_processing import image_to_windows, get_3d_norm_histogram, calculate_histograms,text_removal\n",
    "from utils.segbackground import NMS, background_crop\n",
    "# 3rd Party Libraries\n",
    "from skimage.io import imread\n",
    "from skimage.color import rgb2gray\n",
    "from typing import Tuple, List\n",
    "from tqdm import tqdm\n",
    "import numpy as np\n",
    "import matplotlib.pyplot as plt\n",
    "import cv2\n",
    "import os\n",
    "import pickle\n",
    "import ml_metrics as metrics"
   ]
  },
  {
   "cell_type": "code",
   "execution_count": null,
   "metadata": {},
   "outputs": [],
   "source": [
    "def readimg (path):\n",
    "    return cv2.cvtColor(cv2.imread(path), cv2.COLOR_BGR2RGB)"
   ]
  },
  {
   "cell_type": "markdown",
   "metadata": {},
   "source": [
    "# Load Data"
   ]
  },
  {
   "cell_type": "code",
   "execution_count": null,
   "metadata": {},
   "outputs": [],
   "source": [
    "# Load Data\n",
    "data_manager = DataManager()\n",
    "db, db_files = data_manager.load_data(folder = \"./data/BBDD/\", extension = \".jpg\", desc = \"Loading BBDD Data...\")\n",
    "\n",
    "qsd2_w1, qsd2_w1_files = data_manager.load_data(folder = \"./data/qsd2_w1/\", extension = \".jpg\", desc = \"Loading qsd2_w1 Data...\")\n",
    "qsd1_w2, qsd1_w2_files = data_manager.load_data(folder = \"./data/qsd1_w2/\", extension = \".jpg\", desc = \"Loading qsd1_w2 Data...\")\n",
    "qsd2_w2, qsd2_w2_files = data_manager.load_data(folder = \"./data/qsd2_w2/\", extension = \".jpg\", desc = \"Loading qsd2_w2 Data...\")\n",
    "\n",
    "# Test W2\n",
    "qst1_w2, qst2_w2_files = data_manager.load_data(folder = \"./data/qst1_w2/\", extension = \".jpg\", desc = \"Loading qst1_w2 Data...\")\n",
    "qst2_w2, qst2_w2_files = data_manager.load_data(folder = \"./data/qst2_w2/\", extension = \".jpg\", desc = \"Loading qst2_w2 Data...\")"
   ]
  },
  {
   "cell_type": "markdown",
   "metadata": {},
   "source": [
    "This week we use mainly:\n",
    "- QSD1-W2: cropped images with text\n",
    "- QSD2-W2: images with multiple images "
   ]
  },
  {
   "cell_type": "code",
   "execution_count": null,
   "metadata": {},
   "outputs": [],
   "source": [
    "qsd2_w1_files[:5]"
   ]
  },
  {
   "cell_type": "code",
   "execution_count": null,
   "metadata": {},
   "outputs": [],
   "source": [
    "for img, filename in zip(qsd2_w1, qsd2_w1_files):\n",
    "    plt.imshow(img)\n",
    "    plt.title(filename)\n",
    "    break # show only 1 image"
   ]
  },
  {
   "cell_type": "markdown",
   "metadata": {},
   "source": [
    "## Step 1) Crop, background removal and obtain the pictures."
   ]
  },
  {
   "cell_type": "code",
   "execution_count": null,
   "metadata": {},
   "outputs": [],
   "source": [
    "DO_BKGCROP = True"
   ]
  },
  {
   "cell_type": "code",
   "execution_count": null,
   "metadata": {},
   "outputs": [],
   "source": [
    "if DO_BKGCROP:\n",
    "    qsd2_w1, qsd2_w1_files = background_crop (files= qsd2_w1_files, gt_masks= True, save_masks = False, plot_results=False)\n",
    "    qsd2_w2, qsd2_w2_files = background_crop (files= qsd2_w2_files, gt_masks= True, save_masks = False, plot_results=False)"
   ]
  },
  {
   "cell_type": "code",
   "execution_count": null,
   "metadata": {},
   "outputs": [],
   "source": [
    "for img, filename in zip(qsd2_w1[:3], qsd2_w1_files[:3]):\n",
    "    base = readimg (filename)\n",
    "    \n",
    "    f, axarr = plt.subplots(1,2, figsize=(10,10))\n",
    "    axarr[0].imshow(base)\n",
    "    axarr[0].title.set_text(\"Before\")\n",
    "    axarr[1].imshow(img)\n",
    "    axarr[1].title.set_text(\"After\")\n",
    "    plt.show()"
   ]
  },
  {
   "cell_type": "code",
   "execution_count": null,
   "metadata": {},
   "outputs": [],
   "source": [
    "for img, filename in zip(qsd2_w2[:4], qsd2_w2_files[:4]):\n",
    "    base = readimg (filename)\n",
    "    \n",
    "    f, axarr = plt.subplots(1,2, figsize=(10,10))\n",
    "    axarr[0].imshow(base)\n",
    "    axarr[0].title.set_text(\"Before\")\n",
    "    axarr[1].imshow(img)\n",
    "    axarr[1].title.set_text(\"After\")\n",
    "    plt.show()"
   ]
  },
  {
   "cell_type": "markdown",
   "metadata": {},
   "source": [
    "## Step 2) Text Removal using crops"
   ]
  },
  {
   "cell_type": "code",
   "execution_count": null,
   "metadata": {},
   "outputs": [],
   "source": [
    "DO_TEXT_REMOVAL = True"
   ]
  },
  {
   "cell_type": "code",
   "execution_count": null,
   "metadata": {},
   "outputs": [],
   "source": [
    "#Method to remove text from the image with a rectangle 0 mask\n",
    "if DO_TEXT_REMOVAL:\n",
    "    new_qsd1_w2, contours = text_removal(qsd1_w2,num_images= 1,desc = 'Removing text of images') \n",
    "    qsd2_w2, contours = text_removal(qsd2_w2,num_images= 1,desc = 'Removing text of images') "
   ]
  },
  {
   "cell_type": "code",
   "execution_count": null,
   "metadata": {},
   "outputs": [],
   "source": [
    "for img, filename in zip(new_qsd1_w2[:3], qsd1_w2_files[:3]):\n",
    "    base = readimg (filename)\n",
    "    \n",
    "    f, axarr = plt.subplots(1,2, figsize=(10,10))\n",
    "    axarr[0].imshow(base)\n",
    "    axarr[0].title.set_text(\"Before\")\n",
    "    axarr[1].imshow(img)\n",
    "    axarr[1].title.set_text(\"After\")\n",
    "    plt.show()"
   ]
  },
  {
   "cell_type": "code",
   "execution_count": null,
   "metadata": {},
   "outputs": [],
   "source": [
    "for img, filename in zip(qsd2_w2[:4], qsd2_w2_files[:4]):\n",
    "    base = readimg (filename)\n",
    "    \n",
    "    f, axarr = plt.subplots(1,2, figsize=(10,10))\n",
    "    axarr[0].imshow(base)\n",
    "    axarr[0].title.set_text(\"Before\")\n",
    "    axarr[1].imshow(img)\n",
    "    axarr[1].title.set_text(\"After\")\n",
    "    plt.show()"
   ]
  },
  {
   "cell_type": "markdown",
   "metadata": {},
   "source": [
    "## Step 3) Feature extraction"
   ]
  },
  {
   "cell_type": "code",
   "execution_count": null,
   "metadata": {},
   "outputs": [],
   "source": [
    "NBINS = 16\n",
    "NCOLS = 8\n",
    "NROWS = 8"
   ]
  },
  {
   "cell_type": "code",
   "execution_count": null,
   "metadata": {},
   "outputs": [],
   "source": [
    "# 3D Normalized Histograms Multiresolutio/Block Images\n",
    "db_feature_matrix = calculate_histograms(data = db, n_bins = NBINS, n_rows=NROWS, n_cols=NCOLS, desc=\"Normalized 3D Histograms Calculation for BBDD...\")\n",
    "\n",
    "qsd2_w1_feature_matrix = calculate_histograms(data = qsd2_w1, n_bins = NBINS, n_rows=NROWS, n_cols=NCOLS, desc = \"Normalized 3D Histograms Calculation for qsd2_w1...\")\n",
    "qsd1_w2_feature_matrix = calculate_histograms(data = new_qsd1_w2, n_bins = NBINS, n_rows=NROWS, n_cols=NCOLS, desc = \"Normalized 3D Histograms Calculation for qsd1_w2...\")\n",
    "qsd2_w2_feature_matrix = calculate_histograms(data = qsd2_w2, n_bins = NBINS, n_rows=NROWS, n_cols=NCOLS, desc = \"Normalized 3D Histograms Calculation for qsd2_w2...\")\n",
    "\n",
    "qst1_w2_feature_matrix = calculate_histograms(data = qst1_w2, n_bins = NBINS, n_rows=NROWS, n_cols=NCOLS, desc = \"Normalized 3D Histograms Calculation for qst1_w2...\")\n",
    "qst2_w2_feature_matrix = calculate_histograms(data = qst2_w2, n_bins = NBINS, n_rows=NROWS, n_cols=NCOLS, desc = \"Normalized 3D Histograms Calculation for qst2_w2...\")\n",
    "\n",
    "# Reduce Cardinality using PCA\n",
    "#db_feature_matrix = data_manager.reduce_cardinality(data = db_feature_matrix)\n",
    "#qsd2_w1_feature_matrix = data_manager.reduce_cardinality(data = qsd2_w1_feature_matrix)\n",
    "#qsd1_w2_feature_matrix = data_manager.reduce_cardinality(data = qsd1_w2_feature_matrix)\n",
    "#qsd2_w2_feature_matrix = data_manager.reduce_cardinality(data = qsd2_w2_feature_matrix)\n",
    "#qst1_w2_feature_matrix = data_manager.reduce_cardinality(data = qst1_w2_feature_matrix)\n",
    "#qst2_w2_feature_matrix = data_manager.reduce_cardinality(data = qst2_w2_feature_matrix)"
   ]
  },
  {
   "cell_type": "code",
   "execution_count": null,
   "metadata": {},
   "outputs": [],
   "source": [
    "print (f'For each of the {qsd1_w2_feature_matrix.shape[0]} images, we have a {qsd1_w2_feature_matrix.shape[1]} dimensional descriptor')"
   ]
  },
  {
   "cell_type": "code",
   "execution_count": null,
   "metadata": {},
   "outputs": [],
   "source": [
    "# Similarity\n",
    "sim = Similarity()\n",
    "qs2_w1_similarities  = sim.compute_similarities(qs = qsd2_w1_feature_matrix, db_feature_matrix = db_feature_matrix, desc = \"Computing qsd2_w1 similarities...\", similarity = 'hellinger')\n",
    "qs1_w2_similarities  = sim.compute_similarities(qs = qsd1_w2_feature_matrix, db_feature_matrix = db_feature_matrix, desc = \"Computing qsd1_w2 similarities...\", similarity = 'hellinger')\n",
    "qs2_w2_similarities  = sim.compute_similarities(qs = qsd2_w2_feature_matrix, db_feature_matrix = db_feature_matrix, desc = \"Computing qsd2_w2 similarities...\", similarity = 'hellinger')\n",
    "qst1_w2_similarities = sim.compute_similarities(qs = qst1_w2_feature_matrix, db_feature_matrix = db_feature_matrix, desc = \"Computing qst1_w2 similarities...\", similarity = 'hellinger')\n",
    "qst2_w2_similarities = sim.compute_similarities(qs = qst2_w2_feature_matrix, db_feature_matrix = db_feature_matrix, desc = \"Computing qst2_w2 similarities...\", similarity = 'hellinger')"
   ]
  },
  {
   "cell_type": "code",
   "execution_count": null,
   "metadata": {},
   "outputs": [],
   "source": [
    "# Get top K\n",
    "\n",
    "K = 1\n",
    "\n",
    "top_k_qsd2_w1 = sim.get_top_k(similarity_matrix = qs2_w1_similarities, db_files = db_files, k=K, desc=\"Retrieving qsd2_w1 top K similar images...\")\n",
    "top_k_qsd1_w2 = sim.get_top_k(similarity_matrix = qs1_w2_similarities, db_files = db_files, k=K, desc=\"Retrieving qsd1_w2 top K similar images...\")\n",
    "top_k_qsd2_w2 = sim.get_top_k(similarity_matrix = qs2_w2_similarities, db_files = db_files, k=K, desc=\"Retrieving qsd2_w2 top K similar images...\")\n",
    "top_k_qst1_w2 = sim.get_top_k(similarity_matrix = qst1_w2_similarities, db_files = db_files,k=K, desc=\"Retrieving qst1_w2 top K similar images...\")\n",
    "top_k_qst2_w2 = sim.get_top_k(similarity_matrix = qst2_w2_similarities, db_files = db_files,k=K, desc=\"Retrieving qst2_w2 top K similar images...\")"
   ]
  },
  {
   "cell_type": "markdown",
   "metadata": {},
   "source": [
    "### Validation Scores"
   ]
  },
  {
   "cell_type": "code",
   "execution_count": null,
   "metadata": {},
   "outputs": [],
   "source": [
    "SAVE_RESULTS = False\n",
    "K = 1\n",
    "\n",
    "#QSD1-W2 (Crops+text)\n",
    "# Predict and Save\n",
    "predicted_results = data_manager.save_results_1(results = top_k_qsd1_w2, path = \"./week2/QST1/method1\", save = SAVE_RESULTS) # FOR QS WITH 1 PAINTING\n",
    "#predicted_results = data_manager.save_results_2(results = top_k_qsd2_w1, path = \"./week2/QST1/method1\", save = SAVE_RESULTS) # FOR QS WITH 1-2 PAINTINGS\n",
    "expected_results = pickle.load(file = open('./data/qsd1_w2/gt_corresps.pkl', \"rb\"))\n",
    "metric = metrics.mapk(actual = expected_results, predicted = predicted_results, k=K)\n",
    "print(\"MAP@{} Score: {:.4f}% ({}/{})\".format(K, metric*100,int(len(predicted_results)*metric),len(predicted_results)))\n",
    "\n",
    "# QSD2-W1 (simple crops)\n",
    "predicted_results = data_manager.save_results_1(results = top_k_qsd2_w1, path = \"./week2/QST1/method1\", save = SAVE_RESULTS) # FOR QS WITH 1 PAINTING\n",
    "expected_results = pickle.load(file = open('./data/qsd2_w1/gt_corresps.pkl', \"rb\"))\n",
    "metric = metrics.mapk(actual = expected_results, predicted = predicted_results, k=K)\n",
    "print(\"MAP@{} Score: {:.4f}% ({}/{})\".format(K, metric*100,int(len(predicted_results)*metric),len(predicted_results)))\n",
    "\n",
    "# QSD2-W2 (all)\n",
    "predicted_results = data_manager.save_results_1(results = top_k_qsd2_w2, path = \"./week2/QST1/method1\", save = SAVE_RESULTS) # FOR QS WITH 1 PAINTING\n",
    "predicted_results = data_manager.fix_multi_image(results = predicted_results, results_files = qsd2_w2_files)\n",
    "expected_results = pickle.load(file = open('./data/qsd2_w2/gt_corresps.pkl', \"rb\"))\n",
    "metric = metrics.mapk(actual = expected_results, predicted = predicted_results, k=K)\n",
    "print(\"MAP@{} Score: {:.4f}% ({}/{})\".format(K, metric*100,int(len(predicted_results)*metric),len(predicted_results)))"
   ]
  },
  {
   "cell_type": "code",
   "execution_count": null,
   "metadata": {},
   "outputs": [],
   "source": [
    "plot_image_and_similar(qsd2_w1,top_k_qsd2_w1)"
   ]
  },
  {
   "cell_type": "markdown",
   "metadata": {},
   "source": [
    "# GYM (NOT FINISHED)"
   ]
  },
  {
   "cell_type": "code",
   "execution_count": null,
   "metadata": {},
   "outputs": [],
   "source": [
    "# Define Hyperparameters\n",
    "\n",
    "DATASETS = {'QSD1-W2':new_qsd1_w2, 'QSD2-W1':qsd2_w1 }\n",
    "GT = {'./data/qsd1_w2/gt_corresps.pkl' , './data/qsd2_w1/gt_corresps.pkl'}\n",
    "\n",
    "GRID = [(16,8,8)] # (NBINS , NCOLS , NROWS)\n",
    "KS   = [1, 5,10]"
   ]
  },
  {
   "cell_type": "code",
   "execution_count": null,
   "metadata": {},
   "outputs": [],
   "source": [
    "db_feature_matrix = calculate_histograms(data = db, n_bins = NBINS, n_rows=NROWS, n_cols=NCOLS, desc=\"Normalized 3D Histograms Calculation for BBDD...\")"
   ]
  },
  {
   "cell_type": "code",
   "execution_count": null,
   "metadata": {},
   "outputs": [],
   "source": [
    "for dataset in DATASETS.keys():\n",
    "    \n",
    "    data = DATASETS[dataset]\n",
    "    print ('Dataset:', dataset, '\\timages:',len(data), '\\n')\n",
    "    print (20 * '---')\n",
    "    #plt.imshow(data[0])\n",
    "    \n",
    "    for params in GRID:\n",
    "        \n",
    "        NBINS , NCOLS , NROWS = params\n",
    "        print ('>> Parameters:', NBINS , NCOLS , NROWS)\n",
    "\n",
    "        feature_matrix = calculate_histograms(data = data, n_bins = NBINS, n_rows=NROWS, n_cols=NCOLS, desc = \"Normalized 3D Histograms Calculation for qsd2_w1...\")\n",
    "        sim = Similarity()\n",
    "        similarities = sim.compute_similarities(qs = feature_matrix, db_feature_matrix = db_feature_matrix, desc = \"Computing qsd2_w1 similarities...\", similarity = 'hellinger')\n",
    "        \n",
    "        for K in KS:\n",
    "            top_k = sim.get_top_k(similarity_matrix = similarities, db_files = db_files, k=K, desc=\"Retrieving qsd2_w1 top K similar images...\")\n",
    "            # Predict and Save\n",
    "            predicted_results = data_manager.save_results_1(results = top_k, path = \"./week2/QST1/method1\", save = SAVE_RESULTS) # FOR QS WITH 1 PAINTING\n",
    "            expected_results = pickle.load(file = open('./data/qsd1_w2/gt_corresps.pkl', \"rb\"))\n",
    "            metric = metrics.mapk(actual = expected_results, predicted = predicted_results, k=K)\n",
    "            print(\">>> MAP@{} Score: {:.4f}% ({}/{})\".format(K,metric*100,int(len(predicted_results)*metric),len(predicted_results)))\n",
    "        \n",
    "        print ()\n",
    "        print (20 * '===')\n",
    "        print ()\n",
    "       \n",
    "    print ()\n",
    "    break"
   ]
  },
  {
   "cell_type": "code",
   "execution_count": null,
   "metadata": {},
   "outputs": [],
   "source": []
  },
  {
   "cell_type": "code",
   "execution_count": null,
   "metadata": {},
   "outputs": [],
   "source": []
  }
 ],
 "metadata": {
  "interpreter": {
   "hash": "234e91ff93ea1bbc352ab1f7ae3d461fd493c764caf0e7c3d9730e4a944bff64"
  },
  "kernelspec": {
   "display_name": "Python 3.8.8 64-bit ('base': conda)",
   "name": "python3"
  },
  "language_info": {
   "codemirror_mode": {
    "name": "ipython",
    "version": 3
   },
   "file_extension": ".py",
   "mimetype": "text/x-python",
   "name": "python",
   "nbconvert_exporter": "python",
   "pygments_lexer": "ipython3",
   "version": "3.8.8"
  }
 },
 "nbformat": 4,
 "nbformat_minor": 2
}
