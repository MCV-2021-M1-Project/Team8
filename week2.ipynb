{
 "cells": [
  {
   "cell_type": "code",
   "execution_count": 1,
   "metadata": {},
   "outputs": [],
   "source": [
    "# Own Libraries\n",
    "from utils.data import load_data\n",
    "from utils.metrics import prec_recall, iou_score, f1_dice\n",
    "from utils.similarity import Similarity\n",
    "\n",
    "# 3rd Party Libraries\n",
    "import numpy as np\n",
    "import cv2\n"
   ]
  },
  {
   "cell_type": "code",
   "execution_count": 3,
   "metadata": {},
   "outputs": [
    {
     "name": "stdout",
     "output_type": "stream",
     "text": [
      "./data/BBDD/ read: 287 images\n",
      "./data/qsd2_w1/ read: 30 images\n"
     ]
    }
   ],
   "source": [
    "# Load Data\n",
    "db, db_files = load_data(\"./data/BBDD/\",\".jpg\")\n",
    "qsd2_w1, qsd2_w1_files = load_data(\"./data/qsd2_w1/\",\".jpg\")"
   ]
  },
  {
   "cell_type": "code",
   "execution_count": null,
   "metadata": {},
   "outputs": [],
   "source": []
  }
 ],
 "metadata": {
  "interpreter": {
   "hash": "b57afa678a37970e2ae1e97bfae723b2640c4399908e06bd470e86425548b2c3"
  },
  "kernelspec": {
   "display_name": "Python 3.8.8 64-bit ('base': conda)",
   "name": "python3"
  },
  "language_info": {
   "codemirror_mode": {
    "name": "ipython",
    "version": 3
   },
   "file_extension": ".py",
   "mimetype": "text/x-python",
   "name": "python",
   "nbconvert_exporter": "python",
   "pygments_lexer": "ipython3",
   "version": "3.8.8"
  },
  "orig_nbformat": 4
 },
 "nbformat": 4,
 "nbformat_minor": 2
}
