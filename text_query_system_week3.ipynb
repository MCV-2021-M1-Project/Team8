{
 "cells": [
  {
   "cell_type": "code",
   "execution_count": 1,
   "metadata": {},
   "outputs": [],
   "source": [
    "# Own Libraries\n",
    "from utils.plotting import plot_image_and_similar\n",
    "from utils.data import DataManager\n",
    "from utils.metrics import prec_recall, iou_score, f1_dice\n",
    "from utils.similarity import Similarity\n",
    "from utils.image_processing import image_to_windows, get_3d_norm_histogram, calculate_histograms,text_removal,text_reading\n",
    "\n",
    "# 3rd Party Libraries\n",
    "from skimage.io import imread\n",
    "from skimage.color import rgb2gray\n",
    "from typing import Tuple, List\n",
    "from tqdm import tqdm\n",
    "import numpy as np\n",
    "import matplotlib.pyplot as plt\n",
    "import cv2\n",
    "import os\n",
    "import pickle\n",
    "import ml_metrics as metrics\n",
    "import pytesseract\n",
    "import re\n",
    "import textdistance"
   ]
  },
  {
   "cell_type": "code",
   "execution_count": 2,
   "metadata": {
    "scrolled": true
   },
   "outputs": [
    {
     "name": "stderr",
     "output_type": "stream",
     "text": [
      "Loading BBDD Data...: 100%|██████████████████████████████████████████████████████████| 287/287 [00:12<00:00, 23.55it/s]\n",
      "Loading qsd1_w2 Data...: 100%|████████████████████████████████████████████████████████| 30/30 [00:00<00:00, 168.96it/s]"
     ]
    },
    {
     "name": "stdout",
     "output_type": "stream",
     "text": [
      "./data/BBDD/ read: 287 images\n"
     ]
    },
    {
     "name": "stderr",
     "output_type": "stream",
     "text": [
      "\n",
      "Loading qsd1_w3 Data...: 100%|████████████████████████████████████████████████████████| 30/30 [00:00<00:00, 345.75it/s]"
     ]
    },
    {
     "name": "stdout",
     "output_type": "stream",
     "text": [
      "./data/qsd1_w2/ read: 30 images\n"
     ]
    },
    {
     "name": "stderr",
     "output_type": "stream",
     "text": [
      "\n"
     ]
    },
    {
     "name": "stdout",
     "output_type": "stream",
     "text": [
      "./data/qsd1_w3/non_augmented/ read: 30 images\n"
     ]
    }
   ],
   "source": [
    "data_manager = DataManager()\n",
    "db, db_files = data_manager.load_data(folder = \"./data/BBDD/\", extension = \".jpg\", desc = \"Loading BBDD Data...\")\n",
    "qsd1_w2, qsd1_w2_files = data_manager.load_data(folder = \"./data/qsd1_w2/\", extension = \".jpg\", desc = \"Loading qsd1_w2 Data...\")\n",
    "qsd1_w3, qsd1_w3_files = data_manager.load_data(folder = \"./data/qsd1_w3/non_augmented/\", extension = \".jpg\", desc = \"Loading qsd1_w3 Data...\")"
   ]
  },
  {
   "cell_type": "code",
   "execution_count": 3,
   "metadata": {},
   "outputs": [
    {
     "name": "stderr",
     "output_type": "stream",
     "text": [
      "Loading BBDD Text...: 100%|████████████████████████████████████████████████████████| 287/287 [00:00<00:00, 2546.66it/s]\n"
     ]
    },
    {
     "name": "stdout",
     "output_type": "stream",
     "text": [
      "[('./data/BBDD/bbdd_00000.txt', \"('Victor Perez-Porros', 'Des-li-zan-tes')\\n\"), ('./data/BBDD/bbdd_00001.txt', \"('Hugo Demarco', 'Reflecting Room')\\n\"), ('./data/BBDD/bbdd_00002.txt', '\\n'), ('./data/BBDD/bbdd_00003.txt', \"('Edvard Munch', 'Youth')\\n\"), ('./data/BBDD/bbdd_00004.txt', \"('Martin Carral', 'Ciclo espacial XXIV')\\n\"), ('./data/BBDD/bbdd_00005.txt', \"('Mario Pasqualotto', 'Els 72 noms de Deu')\\n\"), ('./data/BBDD/bbdd_00006.txt', \"('Gerard Sala', 'S/t')\\n\"), ('./data/BBDD/bbdd_00007.txt', \"('Yago Hortal', 'Kl 45')\\n\"), ('./data/BBDD/bbdd_00008.txt', \"('Josep Guinovart', 'S/t')\\n\"), ('./data/BBDD/bbdd_00009.txt', '\\n'), ('./data/BBDD/bbdd_00010.txt', \"('Agusti Puig', 'Sota la lleona')\\n\"), ('./data/BBDD/bbdd_00011.txt', \"('Joan Hernandez Pijuan', 'Serie violetes i verds')\\n\"), ('./data/BBDD/bbdd_00012.txt', \"('Regina Gimenez', 'Navegants')\\n\"), ('./data/BBDD/bbdd_00013.txt', \"('Pere Santilari', 'Berenar de pastisseria')\\n\"), ('./data/BBDD/bbdd_00014.txt', '\\n'), ('./data/BBDD/bbdd_00015.txt', \"('Josep Ginovart', 'Guitarra vermella ')\\n\"), ('./data/BBDD/bbdd_00016.txt', \"('Corneille', 'Spring in the Desert')\\n\"), ('./data/BBDD/bbdd_00017.txt', '\\n'), ('./data/BBDD/bbdd_00018.txt', '\\n'), ('./data/BBDD/bbdd_00019.txt', '\\n'), ('./data/BBDD/bbdd_00020.txt', \"('Antoni Llena', 'S/t')\\n\"), ('./data/BBDD/bbdd_00021.txt', \"('Josep Cisquella', 'Passeig de Gracia')\\n\"), ('./data/BBDD/bbdd_00022.txt', \"('Modest Cuixart', 'Pierfont Mauler, roi de la viande')\\n\"), ('./data/BBDD/bbdd_00023.txt', \"('Per Krohg', 'The Absinthe Drinker')\\n\"), ('./data/BBDD/bbdd_00024.txt', '(\\'Joan Pere Viladecans\\', \"Tracant l\\'horari\")\\n'), ('./data/BBDD/bbdd_00025.txt', \"('Josep Guinovart', 'Composicio')\\n\"), ('./data/BBDD/bbdd_00026.txt', \"('Victor Perez-Porro', 'Lungo-Mare III')\\n\"), ('./data/BBDD/bbdd_00027.txt', \"('Marco Palazzi', 'Existo luego existo')\\n\"), ('./data/BBDD/bbdd_00028.txt', \"('Robert Llimos', 'Xoc-roig')\\n\"), ('./data/BBDD/bbdd_00029.txt', '\\n'), ('./data/BBDD/bbdd_00030.txt', \"('Francesca Llopis', 'Rosae Cranium')\\n\"), ('./data/BBDD/bbdd_00031.txt', \"('Pablo Picasso', 'Vallauris')\\n\"), ('./data/BBDD/bbdd_00032.txt', \"('Perejaume', 'Estrella apagada')\\n\"), ('./data/BBDD/bbdd_00033.txt', '\\n'), ('./data/BBDD/bbdd_00034.txt', \"('Jose Luis Pascual', 'Peleas domesticas')\\n\"), ('./data/BBDD/bbdd_00035.txt', \"('Sergi Barnils', 'Mentre esclataven llampecs i retrunys de trons, un fort terratremol i una gran pedregada')\\n\"), ('./data/BBDD/bbdd_00036.txt', '\\n'), ('./data/BBDD/bbdd_00037.txt', '(\\'Agusti Puig\\', \"Contemplacio de l\\'obra dona nua al museu\")\\n'), ('./data/BBDD/bbdd_00038.txt', '\\n'), ('./data/BBDD/bbdd_00039.txt', '(\\'Alfred Figueras\\', \"Retrat d\\'Alba\")\\n'), ('./data/BBDD/bbdd_00040.txt', \"('Paul Klee', 'Branches in Autumn')\\n\"), ('./data/BBDD/bbdd_00041.txt', \"('Robert Llimos', 'Cadira florida')\\n\"), ('./data/BBDD/bbdd_00042.txt', \"('Enrique Barro', 'Tot allo que ens separa i ens fara desapareixer')\\n\"), ('./data/BBDD/bbdd_00043.txt', \"('Narcis Comadira', 'Esbos per a un retaule')\\n\"), ('./data/BBDD/bbdd_00044.txt', \"('Josep Segu', 'Barcelona XVII')\\n\"), ('./data/BBDD/bbdd_00045.txt', \"('Joan Pere Viladecans', 'Pintura sobre')\\n\"), ('./data/BBDD/bbdd_00046.txt', \"('Lluis Lleo', 'To get lost I')\\n\"), ('./data/BBDD/bbdd_00047.txt', \"('Xavier Valls', 'Quatre figues verdes')\\n\"), ('./data/BBDD/bbdd_00048.txt', '(\\'Ramiro Fernandez Saus\\', \"L\\'almirall Byron\")\\n'), ('./data/BBDD/bbdd_00049.txt', '\\n'), ('./data/BBDD/bbdd_00050.txt', \"('Jordi Fulla', 'S/t')\\n\"), ('./data/BBDD/bbdd_00051.txt', \"('Alfred Figueras', 'Estocolm')\\n\"), ('./data/BBDD/bbdd_00052.txt', \"('Pere Santilari', 'Bodego I (pastisseria)')\\n\"), ('./data/BBDD/bbdd_00053.txt', \"('Alfons Borrell', '12/XI/2009')\\n\"), ('./data/BBDD/bbdd_00054.txt', \"('Anna-Eva Bergman', 'Yellow Earth and Silver Sky')\\n\"), ('./data/BBDD/bbdd_00055.txt', \"('Alfons Borrell', '4/IV/2011')\\n\"), ('./data/BBDD/bbdd_00056.txt', '\\n'), ('./data/BBDD/bbdd_00057.txt', \"('Paul Klee', 'Untitled')\\n\"), ('./data/BBDD/bbdd_00058.txt', \"('Alfred Figueras', 'Les roses')\\n\"), ('./data/BBDD/bbdd_00059.txt', '\\n'), ('./data/BBDD/bbdd_00060.txt', \"('Jens Ferdinand Willumsen', 'From Sevilla')\\n\"), ('./data/BBDD/bbdd_00061.txt', '\\n'), ('./data/BBDD/bbdd_00062.txt', '\\n'), ('./data/BBDD/bbdd_00063.txt', \"('Edvard Munch', 'Nude on Profile towards the right')\\n\"), ('./data/BBDD/bbdd_00064.txt', \"('Julio Vaquero', 'Zigurat de misteris')\\n\"), ('./data/BBDD/bbdd_00065.txt', '\\n'), ('./data/BBDD/bbdd_00066.txt', '\\n'), ('./data/BBDD/bbdd_00067.txt', \"('Ramon Enrich', 'Vilg')\\n\"), ('./data/BBDD/bbdd_00068.txt', \"('Jordi Isern', 'S/t')\\n\"), ('./data/BBDD/bbdd_00069.txt', \"('Edvard Munch', 'House in Moonlight')\\n\"), ('./data/BBDD/bbdd_00070.txt', \"('Andre Lhote', 'The Port in Bordeaux')\\n\"), ('./data/BBDD/bbdd_00071.txt', \"('Jordi Bernado', 'Barcelona')\\n\"), ('./data/BBDD/bbdd_00072.txt', \"('Jais Nielsen', 'Night')\\n\"), ('./data/BBDD/bbdd_00073.txt', '\\n'), ('./data/BBDD/bbdd_00074.txt', \"('Lluis Lleo', 'I + W # 2')\\n\"), ('./data/BBDD/bbdd_00075.txt', \"('Qi Hao', 'Connection')\\n\"), ('./data/BBDD/bbdd_00076.txt', '(\\'Narcis Comadira\\', \"Retaule d\\'arbres\")\\n'), ('./data/BBDD/bbdd_00077.txt', \"('Pere Santilari', 'Bodego IV')\\n\"), ('./data/BBDD/bbdd_00078.txt', \"('Josep Niebla', 'S/t')\\n\"), ('./data/BBDD/bbdd_00079.txt', \"('Xavier Grau', 'Los oficions IV')\\n\"), ('./data/BBDD/bbdd_00080.txt', '\\n'), ('./data/BBDD/bbdd_00081.txt', '(\\'Alfred Figueras\\', \"La familia de l\\'artista\")\\n'), ('./data/BBDD/bbdd_00082.txt', \"('Alfred Figueras', 'Berenar s Sant Fruitos')\\n\"), ('./data/BBDD/bbdd_00083.txt', \"('Joaquim Chancho', 'Pintura 77')\\n\"), ('./data/BBDD/bbdd_00084.txt', \"('Edvard Munch', 'Winter night')\\n\"), ('./data/BBDD/bbdd_00085.txt', '\\n'), ('./data/BBDD/bbdd_00086.txt', \"('Miquel Rasero', 'S/t')\\n\"), ('./data/BBDD/bbdd_00087.txt', \"('Joan Josep Tharrats', 'Tots els peixos de la Mediterrania')\\n\"), ('./data/BBDD/bbdd_00088.txt', \"('Jan Moritz Kaland', 'Portrait of the painter Nikolai Astrup')\\n\"), ('./data/BBDD/bbdd_00089.txt', \"('SOK KAN LAI', 'Aina')\\n\"), ('./data/BBDD/bbdd_00090.txt', \"('Joan Ponc', 'S/t')\\n\"), ('./data/BBDD/bbdd_00091.txt', \"('Joan Ponc', 'Suite diabolica n. 5')\\n\"), ('./data/BBDD/bbdd_00092.txt', \"('Modest Cuixart', 'Sot de Smirna')\\n\"), ('./data/BBDD/bbdd_00093.txt', \"('Joan Hernandez Pijuan', 'Flors sobre terra torrada')\\n\"), ('./data/BBDD/bbdd_00094.txt', \"('Edvard Munch', 'Melancholy')\\n\"), ('./data/BBDD/bbdd_00095.txt', \"('Bruno Olle', 'R.A.L 1')\\n\"), ('./data/BBDD/bbdd_00096.txt', \"('Nikolai Astrup', 'A Morning in March')\\n\"), ('./data/BBDD/bbdd_00097.txt', '\\n'), ('./data/BBDD/bbdd_00098.txt', '\\n'), ('./data/BBDD/bbdd_00099.txt', \"('Mario Pasqualotto', 'Frida in plastic bags')\\n\"), ('./data/BBDD/bbdd_00100.txt', \"('Jose M. Codina', 'S/t')\\n\"), ('./data/BBDD/bbdd_00101.txt', \"('Joan Ponc', 'S/t')\\n\"), ('./data/BBDD/bbdd_00102.txt', \"('Lluis Marsans', 'Sur le piano')\\n\"), ('./data/BBDD/bbdd_00103.txt', \"('Fjosfrieri', 'Cowshed Courting')\\n\"), ('./data/BBDD/bbdd_00104.txt', \"('Alfred Figueras', 'Carrer de la Plateria')\\n\"), ('./data/BBDD/bbdd_00105.txt', '\\n'), ('./data/BBDD/bbdd_00106.txt', \"('Julio Vaquero', 'Dibuix preparatori per zigurat de misteris')\\n\"), ('./data/BBDD/bbdd_00107.txt', \"('Lluis Lleo', 'S/t')\\n\"), ('./data/BBDD/bbdd_00108.txt', '\\n'), ('./data/BBDD/bbdd_00109.txt', \"('Perejaume', 'Beckford')\\n\"), ('./data/BBDD/bbdd_00110.txt', \"('Antoni Tapies', 'Materia de la cortina')\\n\"), ('./data/BBDD/bbdd_00111.txt', \"('Gino Rubert', 'S/t')\\n\"), ('./data/BBDD/bbdd_00112.txt', '\\n'), ('./data/BBDD/bbdd_00113.txt', \"('Alfred Figueras', 'Jugadors de cartes')\\n\"), ('./data/BBDD/bbdd_00114.txt', '\\n'), ('./data/BBDD/bbdd_00115.txt', '\\n'), ('./data/BBDD/bbdd_00116.txt', \"('Pablo Picasso', 'Woman in a Chair')\\n\"), ('./data/BBDD/bbdd_00117.txt', \"('Leticia Feduchi', 'Roba i cordill')\\n\"), ('./data/BBDD/bbdd_00118.txt', \"('Arranz-Bravo', 'S/t')\\n\"), ('./data/BBDD/bbdd_00119.txt', \"('Per Krohg', 'An Accident')\\n\"), ('./data/BBDD/bbdd_00120.txt', \"('Paul Klee', 'May come!')\\n\"), ('./data/BBDD/bbdd_00121.txt', \"('Agusti Puig', 'Home aspirat')\\n\"), ('./data/BBDD/bbdd_00122.txt', \"('Julio Vaquero', 'Azul Rasgado')\\n\"), ('./data/BBDD/bbdd_00123.txt', \"('Elias Fiigenschou', 'Margrethe Rasmusdatter Stoud')\\n\"), ('./data/BBDD/bbdd_00124.txt', \"('Alfons Borrell', '13/I/2010')\\n\"), ('./data/BBDD/bbdd_00125.txt', '\\n'), ('./data/BBDD/bbdd_00126.txt', '\\n'), ('./data/BBDD/bbdd_00127.txt', '\\n'), ('./data/BBDD/bbdd_00128.txt', \"('Gerard Fernandez-Rico', 'Polyethlylene 02')\\n\"), ('./data/BBDD/bbdd_00129.txt', '\\n'), ('./data/BBDD/bbdd_00130.txt', \"('Alfred Figueras', 'Noia al mirall')\\n\"), ('./data/BBDD/bbdd_00131.txt', \"('Alfonso Alzamora', 'Family plot')\\n\"), ('./data/BBDD/bbdd_00132.txt', \"('Edvard Munch', 'Evening on Karl Johan')\\n\"), ('./data/BBDD/bbdd_00133.txt', '(\\'Antoni Clave\\', \"Roi a l\\'oiseau \")\\n'), ('./data/BBDD/bbdd_00134.txt', \"('Victor Perez-Porros', 'Des-li-zan-tes')\\n\"), ('./data/BBDD/bbdd_00135.txt', \"('Edvard Munch', 'Nude on Profile towards the right')\\n\"), ('./data/BBDD/bbdd_00136.txt', \"('Narcis Comadira', 'Paisatge')\\n\"), ('./data/BBDD/bbdd_00137.txt', \"('Alfred Figueras', 'Mercat Arab')\\n\"), ('./data/BBDD/bbdd_00138.txt', '\\n'), ('./data/BBDD/bbdd_00139.txt', '\\n'), ('./data/BBDD/bbdd_00140.txt', \"('Priseld', 'Midsummer Eve Bonfire')\\n\"), ('./data/BBDD/bbdd_00141.txt', '\\n'), ('./data/BBDD/bbdd_00142.txt', \"('Joaquim Chancho', 'Pintura 413')\\n\"), ('./data/BBDD/bbdd_00143.txt', \"('Antoni Tapies', 'Gran triptic')\\n\"), ('./data/BBDD/bbdd_00144.txt', '\\n'), ('./data/BBDD/bbdd_00145.txt', '\\n'), ('./data/BBDD/bbdd_00146.txt', \"('Gregori Iglesias', 'Serie Biblioteques')\\n\"), ('./data/BBDD/bbdd_00147.txt', \"('Pablo Picasso', 'Bull Fighting')\\n\"), ('./data/BBDD/bbdd_00148.txt', '\\n'), ('./data/BBDD/bbdd_00149.txt', \"('Francesc Artigau', 'Mercat de Santa Caterina')\\n\"), ('./data/BBDD/bbdd_00150.txt', \"('Bruno Olle', 'S/t')\\n\"), ('./data/BBDD/bbdd_00151.txt', \"('Daniel Enkaoua', 'Aure en rose, debout')\\n\"), ('./data/BBDD/bbdd_00152.txt', '\\n'), ('./data/BBDD/bbdd_00153.txt', '\\n'), ('./data/BBDD/bbdd_00154.txt', \"('Alfred Figueras', 'Figura')\\n\"), ('./data/BBDD/bbdd_00155.txt', \"('Joan Pere Viladecans', 'El ritual de la por')\\n\"), ('./data/BBDD/bbdd_00156.txt', '\\n'), ('./data/BBDD/bbdd_00157.txt', \"('Antoni Clave', 'Ovale et etoiles')\\n\"), ('./data/BBDD/bbdd_00158.txt', \"('Jordi Alcaraz', 'Inici de Pintura')\\n\"), ('./data/BBDD/bbdd_00159.txt', '\\n'), ('./data/BBDD/bbdd_00160.txt', \"('Alfred Figueras', 'La meva mare')\\n\"), ('./data/BBDD/bbdd_00161.txt', \"('Anders Svarstad', 'Palonetto, Sta. Lucia, Naples')\\n\"), ('./data/BBDD/bbdd_00162.txt', '(\\'Josep Ucles\\', \"Misteri d\\'una puta en dia de pluja\")\\n'), ('./data/BBDD/bbdd_00163.txt', '(\\'Alfred Figueras\\', \"Jardi d\\'Essai\")\\n'), ('./data/BBDD/bbdd_00164.txt', \"('Lluis Lleo', 'Portuguese forest')\\n\"), ('./data/BBDD/bbdd_00165.txt', \"('Perico Pastor', 'S/t')\\n\"), ('./data/BBDD/bbdd_00166.txt', \"('Jesus Rafael Soto', 'Sotomagie')\\n\"), ('./data/BBDD/bbdd_00167.txt', \"('Jens Ferdinand Willumsen', 'Mother and Daughter')\\n\"), ('./data/BBDD/bbdd_00168.txt', \"('Alfred Figueras', 'Marina')\\n\"), ('./data/BBDD/bbdd_00169.txt', \"('Assumpcio Mateu', 'Frontalitat endins')\\n\"), ('./data/BBDD/bbdd_00170.txt', \"('Alfred Figueras', 'Cap de Noia')\\n\"), ('./data/BBDD/bbdd_00171.txt', '\\n'), ('./data/BBDD/bbdd_00172.txt', \"('Robert Llimos', 'Bibi')\\n\"), ('./data/BBDD/bbdd_00173.txt', \"('Lita Cabellut', 'Trilogy of the doubt 01')\\n\"), ('./data/BBDD/bbdd_00174.txt', \"('Antoni Tapies', 'S/t')\\n\"), ('./data/BBDD/bbdd_00175.txt', \"('Enric Barro', 'Trac negre i blau')\\n\"), ('./data/BBDD/bbdd_00176.txt', \"('Gerard Fernandez-Rico', 'Polyethlylene')\\n\"), ('./data/BBDD/bbdd_00177.txt', \"('Albert Rafols-Casamada', 'S/t')\\n\"), ('./data/BBDD/bbdd_00178.txt', \"('Peter Halley Yago Hortal', 'H + H3')\\n\"), ('./data/BBDD/bbdd_00179.txt', \"('Xevi Vilaro', 'El traspas')\\n\"), ('./data/BBDD/bbdd_00180.txt', \"('Agusti Puig', 'La copa')\\n\"), ('./data/BBDD/bbdd_00181.txt', \"('Sixe Paredes', 'Guerrero')\\n\"), ('./data/BBDD/bbdd_00182.txt', \"('Joan Ponc', 'La lluita')\\n\"), ('./data/BBDD/bbdd_00183.txt', \"('Ramon Enrich', 'Cervoire')\\n\"), ('./data/BBDD/bbdd_00184.txt', \"('Modest Cuixart', 'Simbolisme')\\n\"), ('./data/BBDD/bbdd_00185.txt', '\\n'), ('./data/BBDD/bbdd_00186.txt', '\\n'), ('./data/BBDD/bbdd_00187.txt', \"('Antoni Tapies', 'Miracle')\\n\"), ('./data/BBDD/bbdd_00188.txt', \"('Martin Carral', ' Construccio')\\n\"), ('./data/BBDD/bbdd_00189.txt', \"('Unknown', 'Unknown')\\n\"), ('./data/BBDD/bbdd_00190.txt', \"('Joan Hernandez Pijuan', 'La rosa')\\n\"), ('./data/BBDD/bbdd_00191.txt', '\\n'), ('./data/BBDD/bbdd_00192.txt', \"('Alfred Figueras', 'Port de Barcelona')\\n\"), ('./data/BBDD/bbdd_00193.txt', \"('Anders Svarstad', 'Via Bocca di Leone')\\n\"), ('./data/BBDD/bbdd_00194.txt', \"('Benet Rossell', 'S/t')\\n\"), ('./data/BBDD/bbdd_00195.txt', '\\n'), ('./data/BBDD/bbdd_00196.txt', '\\n'), ('./data/BBDD/bbdd_00197.txt', '\\n'), ('./data/BBDD/bbdd_00198.txt', \"('Alfons Borrell', '27/IX/2000')\\n\"), ('./data/BBDD/bbdd_00199.txt', \"('Jose Luis Pascual', 'Ahora eres un voyeur')\\n\"), ('./data/BBDD/bbdd_00200.txt', \"('Regina Gimenez', 'Les edats del mar')\\n\"), ('./data/BBDD/bbdd_00201.txt', \"('Ramiro Fernandez Saus', 'Retrat de Joan Oliver')\\n\"), ('./data/BBDD/bbdd_00202.txt', \"('Modest Cuixart', 'Branca de nicra')\\n\"), ('./data/BBDD/bbdd_00203.txt', '(\\'Francesc Artigau\\', \"Retrat d\\'una noia\")\\n'), ('./data/BBDD/bbdd_00204.txt', \"('Antoni Llena', 'Entremig')\\n\"), ('./data/BBDD/bbdd_00205.txt', '\\n'), ('./data/BBDD/bbdd_00206.txt', \"('Xavier Valls', 'Els infants')\\n\"), ('./data/BBDD/bbdd_00207.txt', \"('Joan Hernandez Pijuan', 'Recordando una corrida')\\n\"), ('./data/BBDD/bbdd_00208.txt', '\\n'), ('./data/BBDD/bbdd_00209.txt', '\\n'), ('./data/BBDD/bbdd_00210.txt', \"('Perejaume', 'Platea I')\\n\"), ('./data/BBDD/bbdd_00211.txt', \"('Francesc Artigau', 'Interior del vestit vermell')\\n\"), ('./data/BBDD/bbdd_00212.txt', '(\\'Antoni Clave\\', \"D\\'apres... Botticelli\")\\n'), ('./data/BBDD/bbdd_00213.txt', '\\n'), ('./data/BBDD/bbdd_00214.txt', \"('Roser Oduber', 'Dues ments')\\n\"), ('./data/BBDD/bbdd_00215.txt', \"('Alfred Figueras', 'Canal de Bangkok')\\n\"), ('./data/BBDD/bbdd_00216.txt', \"('Agusti Puig', 'El pensador')\\n\"), ('./data/BBDD/bbdd_00217.txt', \"('Gregori Iglesias', 'Cadira de Pol')\\n\"), ('./data/BBDD/bbdd_00218.txt', \"('Pablo Picasso', 'Still Life')\\n\"), ('./data/BBDD/bbdd_00219.txt', \"('Xevi Vilaro', '2 segons abans del traspas')\\n\"), ('./data/BBDD/bbdd_00220.txt', \"('Robert Llimos', 'Illa negra')\\n\"), ('./data/BBDD/bbdd_00221.txt', \"('Assumpcio Mateu', 'Rastres i transparencies')\\n\"), ('./data/BBDD/bbdd_00222.txt', \"('Josep Santilari', 'Ampolles i ombres')\\n\"), ('./data/BBDD/bbdd_00223.txt', \"('Josep Baques', 'Suite Mediterrania')\\n\"), ('./data/BBDD/bbdd_00224.txt', \"('Francesc Ruestes', 'El codi secret de la creacio')\\n\"), ('./data/BBDD/bbdd_00225.txt', \"('Alfred Figueras', 'Paisatge')\\n\"), ('./data/BBDD/bbdd_00226.txt', \"('Josep M. Riera i Arago', 'S/t')\\n\"), ('./data/BBDD/bbdd_00227.txt', \"('Perico Pastor', 'Mezzo')\\n\"), ('./data/BBDD/bbdd_00228.txt', \"('Alfred Figueras', 'Fent punta al coixi')\\n\"), ('./data/BBDD/bbdd_00229.txt', '\\n'), ('./data/BBDD/bbdd_00230.txt', '\\n'), ('./data/BBDD/bbdd_00231.txt', \"('Xevi Vilaro', 'Stand by')\\n\"), ('./data/BBDD/bbdd_00232.txt', \"('Edvard Munch', 'Mrs. Schwarz')\\n\"), ('./data/BBDD/bbdd_00233.txt', \"('Frederic Amat', 'So blau')\\n\"), ('./data/BBDD/bbdd_00234.txt', \"('Edvard Munch', 'Winter landcape from Thuringen')\\n\"), ('./data/BBDD/bbdd_00235.txt', \"('Julio Vaquero', 'Tinteros negros')\\n\"), ('./data/BBDD/bbdd_00236.txt', \"('Antoni Llena', 'Allo que cada cosa te de indecible n.16')\\n\"), ('./data/BBDD/bbdd_00237.txt', \"('Edvard Munch', 'Jealousy')\\n\"), ('./data/BBDD/bbdd_00238.txt', \"('Joan Hernandez Pijuan', 'Perpendicular A-B')\\n\"), ('./data/BBDD/bbdd_00239.txt', \"('Alfred Figueras', 'Els peixos')\\n\"), ('./data/BBDD/bbdd_00240.txt', \"('Enric Ansesa', 'Unknown')\\n\"), ('./data/BBDD/bbdd_00241.txt', \"('Jordi Prat', 'Despres de la pluja')\\n\"), ('./data/BBDD/bbdd_00242.txt', \"('Josep Guinovart', 'La trompeta i el vergel')\\n\"), ('./data/BBDD/bbdd_00243.txt', \"('Joan Longas', 'Tauromaquia I')\\n\"), ('./data/BBDD/bbdd_00244.txt', \"('Diego Rivera', 'Still Life')\\n\"), ('./data/BBDD/bbdd_00245.txt', \"('Daniel Cuervo', 'Peine de los vientos')\\n\"), ('./data/BBDD/bbdd_00246.txt', '(\\'Perejaume\\', \"Ocell a l\\'espina d\\'un arbre\")\\n'), ('./data/BBDD/bbdd_00247.txt', \"('Gonzalo Goytisolo', 'Suceso misterioso I')\\n\"), ('./data/BBDD/bbdd_00248.txt', \"('Alfred Figueras', 'Port de mar, Eivissa')\\n\"), ('./data/BBDD/bbdd_00249.txt', \"('Narcis Comadira', 'Esbos per a un retaule')\\n\"), ('./data/BBDD/bbdd_00250.txt', \"('Ramon Herreros', 'Sonia con collar rojo')\\n\"), ('./data/BBDD/bbdd_00251.txt', \"('Francesc Artigau', 'Noia')\\n\"), ('./data/BBDD/bbdd_00252.txt', \"('Joan Ponc', ' Instruments de tortura')\\n\"), ('./data/BBDD/bbdd_00253.txt', '\\n'), ('./data/BBDD/bbdd_00254.txt', \"('Amelia Riera', 'Pintura')\\n\"), ('./data/BBDD/bbdd_00255.txt', '\\n'), ('./data/BBDD/bbdd_00256.txt', \"('Anna-Eva Bergman', 'Red Earth')\\n\"), ('./data/BBDD/bbdd_00257.txt', \"('Daniel Cuervo', 'CCCB')\\n\"), ('./data/BBDD/bbdd_00258.txt', \"('Sergi Barnils', 'Mireu, tot ho faig nou')\\n\"), ('./data/BBDD/bbdd_00259.txt', \"('Alfred Figueras', 'Mercat a la plaça de Manresa')\\n\"), ('./data/BBDD/bbdd_00260.txt', \"('Per Krohg', 'The Stroll')\\n\"), ('./data/BBDD/bbdd_00261.txt', '(\\'Frederic Amat\\', \"Poema d\\'octubre\")\\n'), ('./data/BBDD/bbdd_00262.txt', \"('Joan Ponc', 'S/t')\\n\"), ('./data/BBDD/bbdd_00263.txt', \"('Josep M. Cabane', 'Somiador')\\n\"), ('./data/BBDD/bbdd_00264.txt', '\\n'), ('./data/BBDD/bbdd_00265.txt', \"('Santi Moix', 'Desequilibri harmonic')\\n\"), ('./data/BBDD/bbdd_00266.txt', \"('Ramon Enrich', 'Unknown')\\n\"), ('./data/BBDD/bbdd_00267.txt', '(\\'Regina Saura\\', \"L\\'hora del cafe\")\\n'), ('./data/BBDD/bbdd_00268.txt', '\\n'), ('./data/BBDD/bbdd_00269.txt', '\\n'), ('./data/BBDD/bbdd_00270.txt', \"('Unknown', 'Unknown')\\n\"), ('./data/BBDD/bbdd_00271.txt', \"('Edvard Munch', 'Ducks and Turkeys in Snow')\\n\"), ('./data/BBDD/bbdd_00272.txt', \"('Leticia Feduchi', 'Bodego')\\n\"), ('./data/BBDD/bbdd_00273.txt', \"('Nikolai Astrup', 'The great wave')\\n\"), ('./data/BBDD/bbdd_00274.txt', \"('Montserrat Clausells', 'Te de nit')\\n\"), ('./data/BBDD/bbdd_00275.txt', \"('Edvard Munch', 'Walter Rathenau')\\n\"), ('./data/BBDD/bbdd_00276.txt', \"('Alfred Figueras', 'En el tren')\\n\"), ('./data/BBDD/bbdd_00277.txt', \"('Pere Santilari', 'Sifo groc')\\n\"), ('./data/BBDD/bbdd_00278.txt', '\\n'), ('./data/BBDD/bbdd_00279.txt', '\\n'), ('./data/BBDD/bbdd_00280.txt', \"('Joan Hernandez Pijuan', 'S/t')\\n\"), ('./data/BBDD/bbdd_00281.txt', \"('Vicenc Badalona', 'Braus')\\n\"), ('./data/BBDD/bbdd_00282.txt', \"('Perejaume', 'El sot de la cama')\\n\"), ('./data/BBDD/bbdd_00283.txt', \"('Pedro Morero', 'Triptico de las islas')\\n\"), ('./data/BBDD/bbdd_00284.txt', '\\n'), ('./data/BBDD/bbdd_00285.txt', \"('Joan Hernandez Pijuan', 'Recordando una corrida')\\n\"), ('./data/BBDD/bbdd_00286.txt', \"('Per Krohg', 'Female Nude')\\n\")]\n",
      "./data/BBDD/ read: 287 images\n",
      "(\"('Victor Perez-Porros', 'Des-li-zan-tes')\\n\", \"('Hugo Demarco', 'Reflecting Room')\\n\", '\\n', \"('Edvard Munch', 'Youth')\\n\", \"('Martin Carral', 'Ciclo espacial XXIV')\\n\", \"('Mario Pasqualotto', 'Els 72 noms de Deu')\\n\", \"('Gerard Sala', 'S/t')\\n\", \"('Yago Hortal', 'Kl 45')\\n\", \"('Josep Guinovart', 'S/t')\\n\", '\\n', \"('Agusti Puig', 'Sota la lleona')\\n\", \"('Joan Hernandez Pijuan', 'Serie violetes i verds')\\n\", \"('Regina Gimenez', 'Navegants')\\n\", \"('Pere Santilari', 'Berenar de pastisseria')\\n\", '\\n', \"('Josep Ginovart', 'Guitarra vermella ')\\n\", \"('Corneille', 'Spring in the Desert')\\n\", '\\n', '\\n', '\\n', \"('Antoni Llena', 'S/t')\\n\", \"('Josep Cisquella', 'Passeig de Gracia')\\n\", \"('Modest Cuixart', 'Pierfont Mauler, roi de la viande')\\n\", \"('Per Krohg', 'The Absinthe Drinker')\\n\", '(\\'Joan Pere Viladecans\\', \"Tracant l\\'horari\")\\n', \"('Josep Guinovart', 'Composicio')\\n\", \"('Victor Perez-Porro', 'Lungo-Mare III')\\n\", \"('Marco Palazzi', 'Existo luego existo')\\n\", \"('Robert Llimos', 'Xoc-roig')\\n\", '\\n', \"('Francesca Llopis', 'Rosae Cranium')\\n\", \"('Pablo Picasso', 'Vallauris')\\n\", \"('Perejaume', 'Estrella apagada')\\n\", '\\n', \"('Jose Luis Pascual', 'Peleas domesticas')\\n\", \"('Sergi Barnils', 'Mentre esclataven llampecs i retrunys de trons, un fort terratremol i una gran pedregada')\\n\", '\\n', '(\\'Agusti Puig\\', \"Contemplacio de l\\'obra dona nua al museu\")\\n', '\\n', '(\\'Alfred Figueras\\', \"Retrat d\\'Alba\")\\n', \"('Paul Klee', 'Branches in Autumn')\\n\", \"('Robert Llimos', 'Cadira florida')\\n\", \"('Enrique Barro', 'Tot allo que ens separa i ens fara desapareixer')\\n\", \"('Narcis Comadira', 'Esbos per a un retaule')\\n\", \"('Josep Segu', 'Barcelona XVII')\\n\", \"('Joan Pere Viladecans', 'Pintura sobre')\\n\", \"('Lluis Lleo', 'To get lost I')\\n\", \"('Xavier Valls', 'Quatre figues verdes')\\n\", '(\\'Ramiro Fernandez Saus\\', \"L\\'almirall Byron\")\\n', '\\n', \"('Jordi Fulla', 'S/t')\\n\", \"('Alfred Figueras', 'Estocolm')\\n\", \"('Pere Santilari', 'Bodego I (pastisseria)')\\n\", \"('Alfons Borrell', '12/XI/2009')\\n\", \"('Anna-Eva Bergman', 'Yellow Earth and Silver Sky')\\n\", \"('Alfons Borrell', '4/IV/2011')\\n\", '\\n', \"('Paul Klee', 'Untitled')\\n\", \"('Alfred Figueras', 'Les roses')\\n\", '\\n', \"('Jens Ferdinand Willumsen', 'From Sevilla')\\n\", '\\n', '\\n', \"('Edvard Munch', 'Nude on Profile towards the right')\\n\", \"('Julio Vaquero', 'Zigurat de misteris')\\n\", '\\n', '\\n', \"('Ramon Enrich', 'Vilg')\\n\", \"('Jordi Isern', 'S/t')\\n\", \"('Edvard Munch', 'House in Moonlight')\\n\", \"('Andre Lhote', 'The Port in Bordeaux')\\n\", \"('Jordi Bernado', 'Barcelona')\\n\", \"('Jais Nielsen', 'Night')\\n\", '\\n', \"('Lluis Lleo', 'I + W # 2')\\n\", \"('Qi Hao', 'Connection')\\n\", '(\\'Narcis Comadira\\', \"Retaule d\\'arbres\")\\n', \"('Pere Santilari', 'Bodego IV')\\n\", \"('Josep Niebla', 'S/t')\\n\", \"('Xavier Grau', 'Los oficions IV')\\n\", '\\n', '(\\'Alfred Figueras\\', \"La familia de l\\'artista\")\\n', \"('Alfred Figueras', 'Berenar s Sant Fruitos')\\n\", \"('Joaquim Chancho', 'Pintura 77')\\n\", \"('Edvard Munch', 'Winter night')\\n\", '\\n', \"('Miquel Rasero', 'S/t')\\n\", \"('Joan Josep Tharrats', 'Tots els peixos de la Mediterrania')\\n\", \"('Jan Moritz Kaland', 'Portrait of the painter Nikolai Astrup')\\n\", \"('SOK KAN LAI', 'Aina')\\n\", \"('Joan Ponc', 'S/t')\\n\", \"('Joan Ponc', 'Suite diabolica n. 5')\\n\", \"('Modest Cuixart', 'Sot de Smirna')\\n\", \"('Joan Hernandez Pijuan', 'Flors sobre terra torrada')\\n\", \"('Edvard Munch', 'Melancholy')\\n\", \"('Bruno Olle', 'R.A.L 1')\\n\", \"('Nikolai Astrup', 'A Morning in March')\\n\", '\\n', '\\n', \"('Mario Pasqualotto', 'Frida in plastic bags')\\n\", \"('Jose M. Codina', 'S/t')\\n\", \"('Joan Ponc', 'S/t')\\n\", \"('Lluis Marsans', 'Sur le piano')\\n\", \"('Fjosfrieri', 'Cowshed Courting')\\n\", \"('Alfred Figueras', 'Carrer de la Plateria')\\n\", '\\n', \"('Julio Vaquero', 'Dibuix preparatori per zigurat de misteris')\\n\", \"('Lluis Lleo', 'S/t')\\n\", '\\n', \"('Perejaume', 'Beckford')\\n\", \"('Antoni Tapies', 'Materia de la cortina')\\n\", \"('Gino Rubert', 'S/t')\\n\", '\\n', \"('Alfred Figueras', 'Jugadors de cartes')\\n\", '\\n', '\\n', \"('Pablo Picasso', 'Woman in a Chair')\\n\", \"('Leticia Feduchi', 'Roba i cordill')\\n\", \"('Arranz-Bravo', 'S/t')\\n\", \"('Per Krohg', 'An Accident')\\n\", \"('Paul Klee', 'May come!')\\n\", \"('Agusti Puig', 'Home aspirat')\\n\", \"('Julio Vaquero', 'Azul Rasgado')\\n\", \"('Elias Fiigenschou', 'Margrethe Rasmusdatter Stoud')\\n\", \"('Alfons Borrell', '13/I/2010')\\n\", '\\n', '\\n', '\\n', \"('Gerard Fernandez-Rico', 'Polyethlylene 02')\\n\", '\\n', \"('Alfred Figueras', 'Noia al mirall')\\n\", \"('Alfonso Alzamora', 'Family plot')\\n\", \"('Edvard Munch', 'Evening on Karl Johan')\\n\", '(\\'Antoni Clave\\', \"Roi a l\\'oiseau \")\\n', \"('Victor Perez-Porros', 'Des-li-zan-tes')\\n\", \"('Edvard Munch', 'Nude on Profile towards the right')\\n\", \"('Narcis Comadira', 'Paisatge')\\n\", \"('Alfred Figueras', 'Mercat Arab')\\n\", '\\n', '\\n', \"('Priseld', 'Midsummer Eve Bonfire')\\n\", '\\n', \"('Joaquim Chancho', 'Pintura 413')\\n\", \"('Antoni Tapies', 'Gran triptic')\\n\", '\\n', '\\n', \"('Gregori Iglesias', 'Serie Biblioteques')\\n\", \"('Pablo Picasso', 'Bull Fighting')\\n\", '\\n', \"('Francesc Artigau', 'Mercat de Santa Caterina')\\n\", \"('Bruno Olle', 'S/t')\\n\", \"('Daniel Enkaoua', 'Aure en rose, debout')\\n\", '\\n', '\\n', \"('Alfred Figueras', 'Figura')\\n\", \"('Joan Pere Viladecans', 'El ritual de la por')\\n\", '\\n', \"('Antoni Clave', 'Ovale et etoiles')\\n\", \"('Jordi Alcaraz', 'Inici de Pintura')\\n\", '\\n', \"('Alfred Figueras', 'La meva mare')\\n\", \"('Anders Svarstad', 'Palonetto, Sta. Lucia, Naples')\\n\", '(\\'Josep Ucles\\', \"Misteri d\\'una puta en dia de pluja\")\\n', '(\\'Alfred Figueras\\', \"Jardi d\\'Essai\")\\n', \"('Lluis Lleo', 'Portuguese forest')\\n\", \"('Perico Pastor', 'S/t')\\n\", \"('Jesus Rafael Soto', 'Sotomagie')\\n\", \"('Jens Ferdinand Willumsen', 'Mother and Daughter')\\n\", \"('Alfred Figueras', 'Marina')\\n\", \"('Assumpcio Mateu', 'Frontalitat endins')\\n\", \"('Alfred Figueras', 'Cap de Noia')\\n\", '\\n', \"('Robert Llimos', 'Bibi')\\n\", \"('Lita Cabellut', 'Trilogy of the doubt 01')\\n\", \"('Antoni Tapies', 'S/t')\\n\", \"('Enric Barro', 'Trac negre i blau')\\n\", \"('Gerard Fernandez-Rico', 'Polyethlylene')\\n\", \"('Albert Rafols-Casamada', 'S/t')\\n\", \"('Peter Halley Yago Hortal', 'H + H3')\\n\", \"('Xevi Vilaro', 'El traspas')\\n\", \"('Agusti Puig', 'La copa')\\n\", \"('Sixe Paredes', 'Guerrero')\\n\", \"('Joan Ponc', 'La lluita')\\n\", \"('Ramon Enrich', 'Cervoire')\\n\", \"('Modest Cuixart', 'Simbolisme')\\n\", '\\n', '\\n', \"('Antoni Tapies', 'Miracle')\\n\", \"('Martin Carral', ' Construccio')\\n\", \"('Unknown', 'Unknown')\\n\", \"('Joan Hernandez Pijuan', 'La rosa')\\n\", '\\n', \"('Alfred Figueras', 'Port de Barcelona')\\n\", \"('Anders Svarstad', 'Via Bocca di Leone')\\n\", \"('Benet Rossell', 'S/t')\\n\", '\\n', '\\n', '\\n', \"('Alfons Borrell', '27/IX/2000')\\n\", \"('Jose Luis Pascual', 'Ahora eres un voyeur')\\n\", \"('Regina Gimenez', 'Les edats del mar')\\n\", \"('Ramiro Fernandez Saus', 'Retrat de Joan Oliver')\\n\", \"('Modest Cuixart', 'Branca de nicra')\\n\", '(\\'Francesc Artigau\\', \"Retrat d\\'una noia\")\\n', \"('Antoni Llena', 'Entremig')\\n\", '\\n', \"('Xavier Valls', 'Els infants')\\n\", \"('Joan Hernandez Pijuan', 'Recordando una corrida')\\n\", '\\n', '\\n', \"('Perejaume', 'Platea I')\\n\", \"('Francesc Artigau', 'Interior del vestit vermell')\\n\", '(\\'Antoni Clave\\', \"D\\'apres... Botticelli\")\\n', '\\n', \"('Roser Oduber', 'Dues ments')\\n\", \"('Alfred Figueras', 'Canal de Bangkok')\\n\", \"('Agusti Puig', 'El pensador')\\n\", \"('Gregori Iglesias', 'Cadira de Pol')\\n\", \"('Pablo Picasso', 'Still Life')\\n\", \"('Xevi Vilaro', '2 segons abans del traspas')\\n\", \"('Robert Llimos', 'Illa negra')\\n\", \"('Assumpcio Mateu', 'Rastres i transparencies')\\n\", \"('Josep Santilari', 'Ampolles i ombres')\\n\", \"('Josep Baques', 'Suite Mediterrania')\\n\", \"('Francesc Ruestes', 'El codi secret de la creacio')\\n\", \"('Alfred Figueras', 'Paisatge')\\n\", \"('Josep M. Riera i Arago', 'S/t')\\n\", \"('Perico Pastor', 'Mezzo')\\n\", \"('Alfred Figueras', 'Fent punta al coixi')\\n\", '\\n', '\\n', \"('Xevi Vilaro', 'Stand by')\\n\", \"('Edvard Munch', 'Mrs. Schwarz')\\n\", \"('Frederic Amat', 'So blau')\\n\", \"('Edvard Munch', 'Winter landcape from Thuringen')\\n\", \"('Julio Vaquero', 'Tinteros negros')\\n\", \"('Antoni Llena', 'Allo que cada cosa te de indecible n.16')\\n\", \"('Edvard Munch', 'Jealousy')\\n\", \"('Joan Hernandez Pijuan', 'Perpendicular A-B')\\n\", \"('Alfred Figueras', 'Els peixos')\\n\", \"('Enric Ansesa', 'Unknown')\\n\", \"('Jordi Prat', 'Despres de la pluja')\\n\", \"('Josep Guinovart', 'La trompeta i el vergel')\\n\", \"('Joan Longas', 'Tauromaquia I')\\n\", \"('Diego Rivera', 'Still Life')\\n\", \"('Daniel Cuervo', 'Peine de los vientos')\\n\", '(\\'Perejaume\\', \"Ocell a l\\'espina d\\'un arbre\")\\n', \"('Gonzalo Goytisolo', 'Suceso misterioso I')\\n\", \"('Alfred Figueras', 'Port de mar, Eivissa')\\n\", \"('Narcis Comadira', 'Esbos per a un retaule')\\n\", \"('Ramon Herreros', 'Sonia con collar rojo')\\n\", \"('Francesc Artigau', 'Noia')\\n\", \"('Joan Ponc', ' Instruments de tortura')\\n\", '\\n', \"('Amelia Riera', 'Pintura')\\n\", '\\n', \"('Anna-Eva Bergman', 'Red Earth')\\n\", \"('Daniel Cuervo', 'CCCB')\\n\", \"('Sergi Barnils', 'Mireu, tot ho faig nou')\\n\", \"('Alfred Figueras', 'Mercat a la plaça de Manresa')\\n\", \"('Per Krohg', 'The Stroll')\\n\", '(\\'Frederic Amat\\', \"Poema d\\'octubre\")\\n', \"('Joan Ponc', 'S/t')\\n\", \"('Josep M. Cabane', 'Somiador')\\n\", '\\n', \"('Santi Moix', 'Desequilibri harmonic')\\n\", \"('Ramon Enrich', 'Unknown')\\n\", '(\\'Regina Saura\\', \"L\\'hora del cafe\")\\n', '\\n', '\\n', \"('Unknown', 'Unknown')\\n\", \"('Edvard Munch', 'Ducks and Turkeys in Snow')\\n\", \"('Leticia Feduchi', 'Bodego')\\n\", \"('Nikolai Astrup', 'The great wave')\\n\", \"('Montserrat Clausells', 'Te de nit')\\n\", \"('Edvard Munch', 'Walter Rathenau')\\n\", \"('Alfred Figueras', 'En el tren')\\n\", \"('Pere Santilari', 'Sifo groc')\\n\", '\\n', '\\n', \"('Joan Hernandez Pijuan', 'S/t')\\n\", \"('Vicenc Badalona', 'Braus')\\n\", \"('Perejaume', 'El sot de la cama')\\n\", \"('Pedro Morero', 'Triptico de las islas')\\n\", '\\n', \"('Joan Hernandez Pijuan', 'Recordando una corrida')\\n\", \"('Per Krohg', 'Female Nude')\\n\")\n"
     ]
    }
   ],
   "source": [
    "BBDD_texts = data_manager.load_text(folder = \"./data/BBDD/\", extension = \".txt\", desc = \"Loading BBDD Text...\")\n",
    "print(BBDD_texts)"
   ]
  },
  {
   "cell_type": "code",
   "execution_count": 4,
   "metadata": {},
   "outputs": [
    {
     "name": "stderr",
     "output_type": "stream",
     "text": [
      "Extracting titles from DDBB...: 100%|█████████████████████████████████████████████| 287/287 [00:00<00:00, 47945.40it/s]"
     ]
    },
    {
     "name": "stdout",
     "output_type": "stream",
     "text": [
      "[' Des-li-zan-tes', ' Reflecting Room', '', ' Youth', ' Ciclo espacial XXIV', ' Els 72 noms de Deu', ' St', ' Kl 45', ' St', '', ' Sota la lleona', ' Serie violetes i verds', ' Navegants', ' Berenar de pastisseria', '', ' Guitarra vermella ', ' Spring in the Desert', '', '', '', ' St', ' Passeig de Gracia', ' Pierfont Mauler', ' The Absinthe Drinker', ' Tracant lhorari', ' Composicio', ' Lungo-Mare III', ' Existo luego existo', ' Xoc-roig', '', ' Rosae Cranium', ' Vallauris', ' Estrella apagada', '', ' Peleas domesticas', ' Mentre esclataven llampecs i retrunys de trons', '', ' Contemplacio de lobra dona nua al museu', '', ' Retrat dAlba', ' Branches in Autumn', ' Cadira florida', ' Tot allo que ens separa i ens fara desapareixer', ' Esbos per a un retaule', ' Barcelona XVII', ' Pintura sobre', ' To get lost I', ' Quatre figues verdes', ' Lalmirall Byron', '', ' St', ' Estocolm', ' Bodego I pastisseria', ' 12XI2009', ' Yellow Earth and Silver Sky', ' 4IV2011', '', ' Untitled', ' Les roses', '', ' From Sevilla', '', '', ' Nude on Profile towards the right', ' Zigurat de misteris', '', '', ' Vilg', ' St', ' House in Moonlight', ' The Port in Bordeaux', ' Barcelona', ' Night', '', ' I  W  2', ' Connection', ' Retaule darbres', ' Bodego IV', ' St', ' Los oficions IV', '', ' La familia de lartista', ' Berenar s Sant Fruitos', ' Pintura 77', ' Winter night', '', ' St', ' Tots els peixos de la Mediterrania', ' Portrait of the painter Nikolai Astrup', ' Aina', ' St', ' Suite diabolica n 5', ' Sot de Smirna', ' Flors sobre terra torrada', ' Melancholy', ' RAL 1', ' A Morning in March', '', '', ' Frida in plastic bags', ' St', ' St', ' Sur le piano', ' Cowshed Courting', ' Carrer de la Plateria', '', ' Dibuix preparatori per zigurat de misteris', ' St', '', ' Beckford', ' Materia de la cortina', ' St', '', ' Jugadors de cartes', '', '', ' Woman in a Chair', ' Roba i cordill', ' St', ' An Accident', ' May come', ' Home aspirat', ' Azul Rasgado', ' Margrethe Rasmusdatter Stoud', ' 13I2010', '', '', '', ' Polyethlylene 02', '', ' Noia al mirall', ' Family plot', ' Evening on Karl Johan', ' Roi a loiseau ', ' Des-li-zan-tes', ' Nude on Profile towards the right', ' Paisatge', ' Mercat Arab', '', '', ' Midsummer Eve Bonfire', '', ' Pintura 413', ' Gran triptic', '', '', ' Serie Biblioteques', ' Bull Fighting', '', ' Mercat de Santa Caterina', ' St', ' Aure en rose', '', '', ' Figura', ' El ritual de la por', '', ' Ovale et etoiles', ' Inici de Pintura', '', ' La meva mare', ' Palonetto', ' Misteri duna puta en dia de pluja', ' Jardi dEssai', ' Portuguese forest', ' St', ' Sotomagie', ' Mother and Daughter', ' Marina', ' Frontalitat endins', ' Cap de Noia', '', ' Bibi', ' Trilogy of the doubt 01', ' St', ' Trac negre i blau', ' Polyethlylene', ' St', ' H  H3', ' El traspas', ' La copa', ' Guerrero', ' La lluita', ' Cervoire', ' Simbolisme', '', '', ' Miracle', '  Construccio', ' Unknown', ' La rosa', '', ' Port de Barcelona', ' Via Bocca di Leone', ' St', '', '', '', ' 27IX2000', ' Ahora eres un voyeur', ' Les edats del mar', ' Retrat de Joan Oliver', ' Branca de nicra', ' Retrat duna noia', ' Entremig', '', ' Els infants', ' Recordando una corrida', '', '', ' Platea I', ' Interior del vestit vermell', ' Dapres Botticelli', '', ' Dues ments', ' Canal de Bangkok', ' El pensador', ' Cadira de Pol', ' Still Life', ' 2 segons abans del traspas', ' Illa negra', ' Rastres i transparencies', ' Ampolles i ombres', ' Suite Mediterrania', ' El codi secret de la creacio', ' Paisatge', ' St', ' Mezzo', ' Fent punta al coixi', '', '', ' Stand by', ' Mrs Schwarz', ' So blau', ' Winter landcape from Thuringen', ' Tinteros negros', ' Allo que cada cosa te de indecible n16', ' Jealousy', ' Perpendicular A-B', ' Els peixos', ' Unknown', ' Despres de la pluja', ' La trompeta i el vergel', ' Tauromaquia I', ' Still Life', ' Peine de los vientos', ' Ocell a lespina dun arbre', ' Suceso misterioso I', ' Port de mar', ' Esbos per a un retaule', ' Sonia con collar rojo', ' Noia', '  Instruments de tortura', '', ' Pintura', '', ' Red Earth', ' CCCB', ' Mireu', ' Mercat a la plaa de Manresa', ' The Stroll', ' Poema doctubre', ' St', ' Somiador', '', ' Desequilibri harmonic', ' Unknown', ' Lhora del cafe', '', '', ' Unknown', ' Ducks and Turkeys in Snow', ' Bodego', ' The great wave', ' Te de nit', ' Walter Rathenau', ' En el tren', ' Sifo groc', '', '', ' St', ' Braus', ' El sot de la cama', ' Triptico de las islas', '', ' Recordando una corrida', ' Female Nude']\n"
     ]
    },
    {
     "name": "stderr",
     "output_type": "stream",
     "text": [
      "\n"
     ]
    }
   ],
   "source": [
    "BBDD_titles = data_manager.extract_title(data=BBDD_texts,index=1,desc='Extracting titles from DDBB...')\n",
    "print(BBDD_titles)"
   ]
  },
  {
   "cell_type": "code",
   "execution_count": 5,
   "metadata": {},
   "outputs": [
    {
     "name": "stderr",
     "output_type": "stream",
     "text": [
      "Reading titles from images: 100%|██████████████████████████████████████████████████████| 30/30 [00:09<00:00,  3.02it/s]\n"
     ]
    }
   ],
   "source": [
    "# Mention the installed location of Tesseract-OCR in your system\n",
    "pytesseract.pytesseract.tesseract_cmd = r'C:\\Program Files\\Tesseract-OCR\\tesseract'\n",
    "detected_titles = text_reading(data=qsd1_w2,num_images=1,desc='Reading titles from images')\n",
    "    \n",
    "     "
   ]
  },
  {
   "cell_type": "code",
   "execution_count": 6,
   "metadata": {},
   "outputs": [
    {
     "name": "stdout",
     "output_type": "stream",
     "text": [
      "['sBodego IV', 'Paisatge', 'Noia al mirallj', 'Les roses', '2 segons abans del traspas', 'Lialmirall Byron', 'iSt', 'Port de mar Eivissa', ' Pintura sobre Ll ', '7 Unknown a', ' ', 'i Unknown ', 'Suite diabolica n 5 ', ' ', ' Mercat a la plaa de Manresa a', 'Rastres i transparencies ', 'Bodego  pastisseria M', ' ', '', ' Bodego ', ' ', 'The Stroll', 'Cadira florida', 'Tol al re mmoxe aimoxe Kel amt ge e', 'Te de nit', 'eLa meva mare', 's Carrer de la Plateriall', 'rie violetes i verds', 'Suite Mediterrania ', '']\n"
     ]
    }
   ],
   "source": [
    "print(detected_titles)"
   ]
  },
  {
   "cell_type": "code",
   "execution_count": 7,
   "metadata": {
    "scrolled": true
   },
   "outputs": [
    {
     "name": "stderr",
     "output_type": "stream",
     "text": [
      "Computing string similarity: 100%|█████████████████████████████████████████████████████| 30/30 [00:05<00:00,  5.88it/s]\n"
     ]
    }
   ],
   "source": [
    "sim = Similarity()\n",
    "\n",
    "qsd1_w2_similarities = sim.compute_string_similarities(detected_titles,BBDD_titles,desc='Computing string similarity', similarity='levenshtein')"
   ]
  },
  {
   "cell_type": "code",
   "execution_count": 8,
   "metadata": {},
   "outputs": [
    {
     "name": "stdout",
     "output_type": "stream",
     "text": [
      "[[0.06666667 0.125      0.         ... 0.         0.17391304 0.08333333]\n",
      " [0.2        0.125      0.         ... 0.         0.08695652 0.16666667]\n",
      " [0.         0.         0.         ... 0.         0.2173913  0.13333333]\n",
      " ...\n",
      " [0.2        0.2        0.         ... 0.         0.17391304 0.25      ]\n",
      " [0.15789474 0.15789474 0.         ... 0.         0.08695652 0.15789474]\n",
      " [0.         0.         1.         ... 1.         0.         0.        ]]\n"
     ]
    }
   ],
   "source": [
    "print(qsd1_w2_similarities)"
   ]
  },
  {
   "cell_type": "code",
   "execution_count": 9,
   "metadata": {},
   "outputs": [
    {
     "name": "stderr",
     "output_type": "stream",
     "text": [
      "Extracting top 10: 100%|██████████████████████████████████████████████████████████████| 30/30 [00:00<00:00, 546.94it/s]"
     ]
    },
    {
     "name": "stdout",
     "output_type": "stream",
     "text": [
      "[77]\n",
      "[0.9]\n",
      "[0.9]\n",
      "[77]\n",
      "[225]\n",
      "[0.8888888888888888]\n",
      "[0.8888888888888888]\n",
      "[225]\n",
      "[130]\n",
      "[0.8666666666666667]\n",
      "[0.8666666666666667]\n",
      "[130]\n",
      "[58]\n",
      "[0.9]\n",
      "[0.9]\n",
      "[58]\n",
      "[219]\n",
      "[0.962962962962963]\n",
      "[0.962962962962963]\n",
      "[219]\n",
      "[48]\n",
      "[0.875]\n",
      "[0.875]\n",
      "[48]\n",
      "[280]\n",
      "[0.6666666666666667]\n",
      "[0.6666666666666667]\n",
      "[280]\n",
      "[248]\n",
      "[0.5263157894736843]\n",
      "[0.5263157894736843]\n",
      "[248]\n",
      "[45]\n",
      "[0.7777777777777778]\n",
      "[0.7777777777777778]\n",
      "[45]\n",
      "[270]\n",
      "[0.7272727272727273]\n",
      "[0.7272727272727273]\n",
      "[270]\n",
      "[280]\n",
      "[0.33333333333333337]\n",
      "[0.33333333333333337]\n",
      "[280]\n",
      "[270]\n",
      "[0.8]\n",
      "[0.8]\n",
      "[270]\n",
      "[91]\n",
      "[0.9]\n",
      "[0.9]\n",
      "[91]\n",
      "[280]\n",
      "[0.33333333333333337]\n",
      "[0.33333333333333337]\n",
      "[280]\n",
      "[259]\n",
      "[0.9333333333333333]\n",
      "[0.9333333333333333]\n",
      "[259]\n",
      "[221]\n",
      "[0.92]\n",
      "[0.92]\n",
      "[221]\n",
      "[52]\n",
      "[0.8095238095238095]\n",
      "[0.8095238095238095]\n",
      "[52]\n",
      "[280]\n",
      "[0.33333333333333337]\n",
      "[0.33333333333333337]\n",
      "[280]\n",
      "[284]\n",
      "[1.0]\n",
      "[1.0]\n",
      "[284]\n",
      "[272]\n",
      "[0.875]\n",
      "[0.875]\n",
      "[272]\n",
      "[280]\n",
      "[0.33333333333333337]\n",
      "[0.33333333333333337]\n",
      "[280]\n",
      "[260]\n",
      "[0.9090909090909091]\n",
      "[0.9090909090909091]\n",
      "[260]\n",
      "[41]\n",
      "[0.9333333333333333]\n",
      "[0.9333333333333333]\n",
      "[41]\n",
      "[242]\n",
      "[0.3142857142857143]\n",
      "[0.3142857142857143]\n",
      "[242]\n",
      "[274]\n",
      "[0.9]\n",
      "[0.9]\n",
      "[274]\n",
      "[160]\n",
      "[0.9230769230769231]\n",
      "[0.9230769230769231]\n",
      "[160]\n",
      "[104]\n",
      "[0.88]\n",
      "[0.88]\n",
      "[104]\n",
      "[11]\n",
      "[0.8695652173913043]\n",
      "[0.8695652173913043]\n",
      "[11]\n",
      "[223]\n",
      "[0.8947368421052632]\n",
      "[0.8947368421052632]\n",
      "[223]\n",
      "[284]\n",
      "[1.0]\n",
      "[1.0]\n",
      "[284]\n"
     ]
    },
    {
     "name": "stderr",
     "output_type": "stream",
     "text": [
      "\n"
     ]
    }
   ],
   "source": [
    "top_k_qsd1_w2 = sim.get_top_k(qsd1_w2_similarities, db_files, 1, desc='Extracting top 10')"
   ]
  },
  {
   "cell_type": "code",
   "execution_count": 10,
   "metadata": {},
   "outputs": [
    {
     "name": "stdout",
     "output_type": "stream",
     "text": [
      "[['./data/BBDD/bbdd_00077.jpg'], ['./data/BBDD/bbdd_00225.jpg'], ['./data/BBDD/bbdd_00130.jpg'], ['./data/BBDD/bbdd_00058.jpg'], ['./data/BBDD/bbdd_00219.jpg'], ['./data/BBDD/bbdd_00048.jpg'], ['./data/BBDD/bbdd_00280.jpg'], ['./data/BBDD/bbdd_00248.jpg'], ['./data/BBDD/bbdd_00045.jpg'], ['./data/BBDD/bbdd_00270.jpg'], ['./data/BBDD/bbdd_00280.jpg'], ['./data/BBDD/bbdd_00270.jpg'], ['./data/BBDD/bbdd_00091.jpg'], ['./data/BBDD/bbdd_00280.jpg'], ['./data/BBDD/bbdd_00259.jpg'], ['./data/BBDD/bbdd_00221.jpg'], ['./data/BBDD/bbdd_00052.jpg'], ['./data/BBDD/bbdd_00280.jpg'], ['./data/BBDD/bbdd_00284.jpg'], ['./data/BBDD/bbdd_00272.jpg'], ['./data/BBDD/bbdd_00280.jpg'], ['./data/BBDD/bbdd_00260.jpg'], ['./data/BBDD/bbdd_00041.jpg'], ['./data/BBDD/bbdd_00242.jpg'], ['./data/BBDD/bbdd_00274.jpg'], ['./data/BBDD/bbdd_00160.jpg'], ['./data/BBDD/bbdd_00104.jpg'], ['./data/BBDD/bbdd_00011.jpg'], ['./data/BBDD/bbdd_00223.jpg'], ['./data/BBDD/bbdd_00284.jpg']]\n"
     ]
    }
   ],
   "source": [
    "print(top_k_qsd1_w2)"
   ]
  },
  {
   "cell_type": "code",
   "execution_count": 11,
   "metadata": {},
   "outputs": [
    {
     "name": "stdout",
     "output_type": "stream",
     "text": [
      "MAP@1 Score: 66.6667% (20/30)\n"
     ]
    }
   ],
   "source": [
    "SAVE_RESULTS =False\n",
    "K=1\n",
    "predicted_results = data_manager.save_results_1(results = top_k_qsd1_w2, path = \"./week3/QSD1W2/method1\", save = SAVE_RESULTS) # FOR QS WITH 1 PAINTING\n",
    "expected_results = pickle.load(file = open('./data/qsd1_w2/gt_corresps.pkl', \"rb\"))\n",
    "\n",
    "metric = metrics.mapk(actual = expected_results, predicted = predicted_results, k=K)\n",
    "print(\"MAP@{} Score: {:.4f}% ({}/{})\".format(K, metric*100,int(len(predicted_results)*metric),len(predicted_results)))"
   ]
  }
 ],
 "metadata": {
  "kernelspec": {
   "display_name": "Python 3",
   "language": "python",
   "name": "python3"
  },
  "language_info": {
   "codemirror_mode": {
    "name": "ipython",
    "version": 3
   },
   "file_extension": ".py",
   "mimetype": "text/x-python",
   "name": "python",
   "nbconvert_exporter": "python",
   "pygments_lexer": "ipython3",
   "version": "3.8.3"
  }
 },
 "nbformat": 4,
 "nbformat_minor": 4
}
