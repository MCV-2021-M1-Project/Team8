{
 "cells": [
  {
   "cell_type": "code",
   "execution_count": 87,
   "metadata": {},
   "outputs": [],
   "source": [
    "# Own Libraries\n",
    "from utils.data import load_data\n",
    "from utils.metrics import prec_recall, iou_score, f1_dice\n",
    "from utils.similarity import Similarity\n",
    "from utils.image_processing import image_to_windows, get_3d_norm_histogram, calculate_histograms\n",
    "# 3rd Party Libraries\n",
    "from skimage.io import imread\n",
    "import numpy as np\n",
    "import matplotlib.pyplot as plt\n",
    "import cv2\n",
    "import os\n",
    "import pickle\n",
    "import scipy.ndimage"
   ]
  },
  {
   "cell_type": "code",
   "execution_count": 47,
   "metadata": {
    "scrolled": false
   },
   "outputs": [
    {
     "name": "stderr",
     "output_type": "stream",
     "text": [
      "Loading BBDD Data...: 100%|██████████████████████████████████████████████████████████| 287/287 [00:25<00:00, 11.40it/s]\n",
      "Loading qsd1_w2 Data...:   0%|                                                                  | 0/30 [00:00<?, ?it/s]"
     ]
    },
    {
     "name": "stdout",
     "output_type": "stream",
     "text": [
      "./data/BBDD/ read: 287 images\n"
     ]
    },
    {
     "name": "stderr",
     "output_type": "stream",
     "text": [
      "Loading qsd1_w2 Data...: 100%|█████████████████████████████████████████████████████████| 30/30 [00:00<00:00, 81.61it/s]\n"
     ]
    },
    {
     "name": "stdout",
     "output_type": "stream",
     "text": [
      "./data/qsd1_w2/ read: 30 images\n"
     ]
    }
   ],
   "source": [
    "db, db_files = load_data(\"./data/BBDD/\",\".jpg\", desc = \"Loading BBDD Data...\")\n",
    "qsd1_w2, qsd1_w2_files = load_data(\"./data/qsd1_w2/\",\".jpg\", desc = \"Loading qsd1_w2 Data...\")"
   ]
  },
  {
   "cell_type": "code",
   "execution_count": 229,
   "metadata": {
    "scrolled": true
   },
   "outputs": [
    {
     "name": "stdout",
     "output_type": "stream",
     "text": [
      "[[[array([101,   6]), array([101, 107]), array([571, 107]), array([571,   6])]], [[array([68, 18]), array([68, 97]), array([384,  97]), array([384,  18])]], [[array([ 506, 1797]), array([ 506, 1882]), array([1106, 1882]), array([1106, 1797])]], [[array([576, 106]), array([576, 235]), array([1176,  235]), array([1176,  106])]], [[array([ 90, 523]), array([ 90, 556]), array([509, 556]), array([509, 523])]], [[array([54, 22]), array([54, 55]), array([307,  55]), array([307,  22])]], [[array([47,  1]), array([ 47, 123]), array([265, 123]), array([265,   1])]], [[array([526, 149]), array([526, 212]), array([1126,  212]), array([1126,  149])]], [[array([ 44, 350]), array([ 44, 379]), array([250, 379]), array([250, 350])]], [[array([ 38, 269]), array([ 38, 309]), array([216, 309]), array([216, 269])]], [[array([101, 513]), array([101, 556]), array([574, 556]), array([574, 513])]], [[array([31, 10]), array([31, 41]), array([179,  41]), array([179,  10])]], [[array([49, 17]), array([49, 43]), array([279,  43]), array([279,  17])]], [[array([34, 29]), array([34, 42]), array([192,  42]), array([192,  29])]], [[array([546, 139]), array([546, 183]), array([1146,  183]), array([1146,  139])]], [[array([121, 127]), array([121, 176]), array([686, 176]), array([686, 127])]], [[array([99, 46]), array([99, 94]), array([561,  94]), array([561,  46])]], [[array([62, 83]), array([ 62, 156]), array([355, 156]), array([354,  82])]], [[array([ 76, 535]), array([ 76, 641]), array([431, 641]), array([431, 535])]], [[array([56,  6]), array([56, 83]), array([318,  83]), array([318,   6])]], [[array([ 67, 179]), array([ 67, 213]), array([383, 213]), array([383, 179])]], [[array([ 418, 1715]), array([ 418, 1857]), array([1018, 1857]), array([1018, 1715])]], [[array([ 86, 608]), array([ 86, 673]), array([487, 673]), array([487, 608])]], [[array([ 61, 331]), array([ 61, 361]), array([346, 361]), array([346, 331])]], [[array([ 62, 425]), array([ 62, 489]), array([350, 489]), array([350, 425])]], [[array([ 384, 1238]), array([ 384, 1322]), array([ 984, 1322]), array([ 984, 1238])]], [[array([572, 197]), array([572, 263]), array([1172,  263]), array([1172,  197])]], [[array([50, 23]), array([50, 48]), array([282,  48]), array([282,  23])]], [[array([ 56, 307]), array([ 56, 340]), array([318, 340]), array([318, 307])]], [[array([34, 14]), array([34, 23]), array([194,  23]), array([194,  14])]]]\n"
     ]
    }
   ],
   "source": [
    "with open(\"./data/qsd1_w2/text_boxes.pkl\", \"rb\") as file:\n",
    "    gt_boxes = pickle.load(file)\n",
    "    print(gt_boxes)\n"
   ]
  },
  {
   "cell_type": "code",
   "execution_count": 291,
   "metadata": {},
   "outputs": [],
   "source": [
    "def text_detection(image:np.ndarray):\n",
    "    \n",
    "    #Transform to grayscale\n",
    "    img = cv2.cvtColor(image, cv2.COLOR_BGR2GRAY)\n",
    "    \n",
    "    #Defining the kernels to use\n",
    "    filterSize =(12, 12)\n",
    "    kernel = cv2.getStructuringElement(cv2.MORPH_RECT, \n",
    "                                   filterSize)\n",
    "    \n",
    "    #Applying tophat and blackhat morph operators\n",
    "    tophat_img = cv2.morphologyEx(img, \n",
    "                              cv2.MORPH_TOPHAT,\n",
    "                              kernel)\n",
    "    blackhat_img = cv2.morphologyEx(img, \n",
    "                              cv2.MORPH_BLACKHAT,\n",
    "                              kernel)\n",
    "    #Defining the kernels to use\n",
    "    filterSize =(3, 3)\n",
    "    kernel = cv2.getStructuringElement(cv2.MORPH_RECT, \n",
    "                                   filterSize)\n",
    "    #Adding the results of tophat and blackhat morph operators and thresholding \n",
    "    #to get the letters that have the most intensity\n",
    "    mean = tophat_img/2 +blackhat_img/2\n",
    "    hat = np.uint8(mean>70)\n",
    "    \n",
    "    #Opening filter to remove little artifacts\n",
    "    opening = cv2.morphologyEx(hat, cv2.MORPH_OPEN, kernel,iterations = 1)\n",
    "\n",
    "    #Defining the kernels to use\n",
    "    rect_kernel = cv2.getStructuringElement(cv2.MORPH_RECT, (80,18 ))\n",
    "\n",
    "    # Applying dilation on the threshold image\n",
    "    dilation = cv2.dilate(opening, rect_kernel, iterations = 1)\n",
    "\n",
    "    # Finding contours\n",
    "    contours, hierarchy = cv2.findContours(dilation, cv2.RETR_EXTERNAL,\n",
    "                                                 cv2.CHAIN_APPROX_NONE)\n",
    "    \n",
    "    bounded = np.zeros((img.shape))\n",
    "    area = 0\n",
    "    #Loop to get the contour with the greatest area\n",
    "    for cnt in contours:\n",
    "        area_i = cv2.contourArea(cnt)\n",
    "        if area_i >= area:\n",
    "            area = area_i\n",
    "            x, y, w, h = cv2.boundingRect(cnt)\n",
    "    coordinates = list()\n",
    "    coordinates.append([[x,y],[x,y+h],[x+w,y+h],[x+w,y]])\n",
    "    \n",
    "    \n",
    "    return coordinates\n",
    "    "
   ]
  },
  {
   "cell_type": "code",
   "execution_count": 298,
   "metadata": {},
   "outputs": [
    {
     "name": "stdout",
     "output_type": "stream",
     "text": [
      "0.6015927463526078\n",
      "30\n"
     ]
    }
   ],
   "source": [
    "iou=0\n",
    "for img, gt_coord in zip(qsd1_w2,gt_boxes):\n",
    "    detected_coord = text_detection(img)\n",
    "    gt_mask = np.zeros((img.shape[0],img.shape[1]))\n",
    "    detected_mask = np.zeros((img.shape[0],img.shape[1]))\n",
    "    top_left = (gt_coord[0][0][0], gt_coord[0][0][1])\n",
    "    bottom_right = (gt_coord[0][2][0], gt_coord[0][2][1])\n",
    "    rect = cv2.rectangle(gt_mask, top_left, bottom_right, 255, -1)\n",
    "    top_left = (detected_coord[0][0][0], detected_coord[0][0][1])\n",
    "    bottom_right = (detected_coord[0][2][0], detected_coord[0][2][1])\n",
    "    rect = cv2.rectangle(detected_mask, top_left, bottom_right, 255, -1)\n",
    "    \n",
    "    iou_i = iou_score(gt_mask,detected_mask)\n",
    "    iou += iou_i\n",
    "print(iou/len(qsd1_w2))\n",
    "print(len(qsd1_w2))"
   ]
  }
 ],
 "metadata": {
  "kernelspec": {
   "display_name": "Python 3",
   "language": "python",
   "name": "python3"
  },
  "language_info": {
   "codemirror_mode": {
    "name": "ipython",
    "version": 3
   },
   "file_extension": ".py",
   "mimetype": "text/x-python",
   "name": "python",
   "nbconvert_exporter": "python",
   "pygments_lexer": "ipython3",
   "version": "3.8.3"
  }
 },
 "nbformat": 4,
 "nbformat_minor": 4
}
